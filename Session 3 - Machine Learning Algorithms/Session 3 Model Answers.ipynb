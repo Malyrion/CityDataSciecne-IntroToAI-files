{
 "cells": [
  {
   "cell_type": "markdown",
   "metadata": {},
   "source": [
    "# Introduction to Python for Data Science - Session 3"
   ]
  },
  {
   "cell_type": "markdown",
   "metadata": {},
   "source": [
    "# City Data Science Society 2019"
   ]
  },
  {
   "cell_type": "markdown",
   "metadata": {},
   "source": [
    "Before you start, make sure that you have uploaded the .csv files from the project folder to the left hand side of the notebook."
   ]
  },
  {
   "cell_type": "markdown",
   "metadata": {},
   "source": [
    "The idea of this session is that you will be learning linear regression techniques on the data.csv dataset, and applying these skills on the olympics.csv datatset."
   ]
  },
  {
   "cell_type": "markdown",
   "metadata": {},
   "source": [
    "## Section A - Pandas Recap"
   ]
  },
  {
   "cell_type": "code",
   "execution_count": 1,
   "metadata": {},
   "outputs": [
    {
     "data": {
      "text/html": [
       "<div>\n",
       "<style scoped>\n",
       "    .dataframe tbody tr th:only-of-type {\n",
       "        vertical-align: middle;\n",
       "    }\n",
       "\n",
       "    .dataframe tbody tr th {\n",
       "        vertical-align: top;\n",
       "    }\n",
       "\n",
       "    .dataframe thead th {\n",
       "        text-align: right;\n",
       "    }\n",
       "</style>\n",
       "<table border=\"1\" class=\"dataframe\">\n",
       "  <thead>\n",
       "    <tr style=\"text-align: right;\">\n",
       "      <th></th>\n",
       "      <th>X</th>\n",
       "      <th>Y</th>\n",
       "    </tr>\n",
       "  </thead>\n",
       "  <tbody>\n",
       "    <tr>\n",
       "      <th>0</th>\n",
       "      <td>108</td>\n",
       "      <td>392</td>\n",
       "    </tr>\n",
       "    <tr>\n",
       "      <th>1</th>\n",
       "      <td>19</td>\n",
       "      <td>46</td>\n",
       "    </tr>\n",
       "    <tr>\n",
       "      <th>2</th>\n",
       "      <td>13</td>\n",
       "      <td>15</td>\n",
       "    </tr>\n",
       "    <tr>\n",
       "      <th>3</th>\n",
       "      <td>124</td>\n",
       "      <td>422</td>\n",
       "    </tr>\n",
       "    <tr>\n",
       "      <th>4</th>\n",
       "      <td>40</td>\n",
       "      <td>119</td>\n",
       "    </tr>\n",
       "  </tbody>\n",
       "</table>\n",
       "</div>"
      ],
      "text/plain": [
       "     X    Y\n",
       "0  108  392\n",
       "1   19   46\n",
       "2   13   15\n",
       "3  124  422\n",
       "4   40  119"
      ]
     },
     "execution_count": 1,
     "metadata": {},
     "output_type": "execute_result"
    }
   ],
   "source": [
    "import pandas as pd\n",
    "\n",
    "dataDF = pd.read_csv(\"data.csv\")\n",
    "dataDF.head()"
   ]
  },
  {
   "cell_type": "markdown",
   "metadata": {},
   "source": [
    "### 1. Columns"
   ]
  },
  {
   "cell_type": "markdown",
   "metadata": {},
   "source": [
    "Select the 'Y' column from the DataFrame and print it."
   ]
  },
  {
   "cell_type": "code",
   "execution_count": 2,
   "metadata": {},
   "outputs": [
    {
     "data": {
      "text/plain": [
       "0     392\n",
       "1      46\n",
       "2      15\n",
       "3     422\n",
       "4     119\n",
       "5     170\n",
       "6      56\n",
       "7      77\n",
       "8     214\n",
       "9      65\n",
       "10     20\n",
       "11    248\n",
       "12     23\n",
       "13     39\n",
       "14     48\n",
       "15      6\n",
       "16    134\n",
       "17     50\n",
       "18      4\n",
       "19    113\n",
       "20     14\n",
       "21     48\n",
       "22     52\n",
       "23     13\n",
       "24    103\n",
       "25     77\n",
       "26     11\n",
       "27     98\n",
       "28     27\n",
       "29     38\n",
       "     ... \n",
       "33     40\n",
       "34    161\n",
       "35     57\n",
       "36    217\n",
       "37     58\n",
       "38     12\n",
       "39     59\n",
       "40     89\n",
       "41    202\n",
       "42    181\n",
       "43    152\n",
       "44    162\n",
       "45     73\n",
       "46     21\n",
       "47     92\n",
       "48     76\n",
       "49     39\n",
       "50    142\n",
       "51     93\n",
       "52     31\n",
       "53     32\n",
       "54     55\n",
       "55    133\n",
       "56    194\n",
       "57    137\n",
       "58     87\n",
       "59    209\n",
       "60     95\n",
       "61    244\n",
       "62    187\n",
       "Name: Y, Length: 63, dtype: int64"
      ]
     },
     "execution_count": 2,
     "metadata": {},
     "output_type": "execute_result"
    }
   ],
   "source": [
    "dataDF.Y"
   ]
  },
  {
   "cell_type": "markdown",
   "metadata": {},
   "source": [
    "### 2. Rows "
   ]
  },
  {
   "cell_type": "markdown",
   "metadata": {},
   "source": [
    "Select the 9th row of the database and print it."
   ]
  },
  {
   "cell_type": "code",
   "execution_count": 3,
   "metadata": {},
   "outputs": [
    {
     "data": {
      "text/plain": [
       "X     45\n",
       "Y    214\n",
       "Name: 8, dtype: int64"
      ]
     },
     "execution_count": 3,
     "metadata": {},
     "output_type": "execute_result"
    }
   ],
   "source": [
    "dataDF.iloc[8]"
   ]
  },
  {
   "cell_type": "markdown",
   "metadata": {},
   "source": [
    "## Section B - Matplotlib"
   ]
  },
  {
   "cell_type": "markdown",
   "metadata": {},
   "source": [
    "#### Accessing Columns"
   ]
  },
  {
   "cell_type": "markdown",
   "metadata": {},
   "source": [
    "When we access columns using Pandas we have a number of different options. \n",
    "\n",
    "Below I have demonstrated three options for accessing columns in a DataFrame, and I'm using the .head() method to print just the first 5 rows of each to keep the output easy to read."
   ]
  },
  {
   "cell_type": "code",
   "execution_count": 4,
   "metadata": {
    "scrolled": true
   },
   "outputs": [
    {
     "name": "stdout",
     "output_type": "stream",
     "text": [
      "0    108\n",
      "1     19\n",
      "2     13\n",
      "3    124\n",
      "4     40\n",
      "Name: X, dtype: int64\n",
      "\n",
      "     X\n",
      "0  108\n",
      "1   19\n",
      "2   13\n",
      "3  124\n",
      "4   40\n",
      "\n",
      "0    108\n",
      "1     19\n",
      "2     13\n",
      "3    124\n",
      "4     40\n",
      "Name: X, dtype: int64\n"
     ]
    }
   ],
   "source": [
    "\n",
    "# This will return a pandas Series - essentially a list which also includes the index of the item in the DataFrame.\n",
    "print(dataDF['X'].head())\n",
    "\n",
    "print()\n",
    "\n",
    "# This will return a new DataFrame containing just the index and the selected column.\n",
    "print(dataDF[['X']].head())\n",
    "\n",
    "print()\n",
    "\n",
    "# This will return a pandas Series (a shorthand way of writing dataDF['X'])\n",
    "print(dataDF.X.head())"
   ]
  },
  {
   "cell_type": "markdown",
   "metadata": {},
   "source": [
    "Since accessing columns is easiest by using dataDF.X, you will see me use this method in the examples."
   ]
  },
  {
   "cell_type": "markdown",
   "metadata": {},
   "source": [
    "### 1. Scatter graphs"
   ]
  },
  {
   "cell_type": "markdown",
   "metadata": {},
   "source": [
    "Matplotlib is a library within Python that can be used to plot our data in many different forms. \n",
    "\n",
    "Since we know how to select rows from our DataFrames, we can simply parse these into matplotlib and print a graph."
   ]
  },
  {
   "cell_type": "code",
   "execution_count": 5,
   "metadata": {
    "scrolled": true
   },
   "outputs": [
    {
     "data": {
      "text/plain": [
       "<Figure size 640x480 with 1 Axes>"
      ]
     },
     "metadata": {},
     "output_type": "display_data"
    }
   ],
   "source": [
    "import matplotlib.pyplot as plt\n",
    "\n",
    "plt.scatter(dataDF.X, dataDF.Y)\n",
    "\n",
    "plt.show()"
   ]
  },
  {
   "cell_type": "markdown",
   "metadata": {},
   "source": [
    "#### Task"
   ]
  },
  {
   "cell_type": "markdown",
   "metadata": {},
   "source": [
    "1. Import the olympics.csv dataset into a DataFrame called olympicsDF.\n",
    "\n",
    "2. Plot the DataFrame as a scatter graph using matplotlib. Use 'WinterTotal' as the X-Axis and 'SummerTotal' as the Y-Axis."
   ]
  },
  {
   "cell_type": "code",
   "execution_count": 6,
   "metadata": {},
   "outputs": [
    {
     "data": {
      "image/png": "[encoded data removed]",
      "text/plain": [
       "<Figure size 432x288 with 1 Axes>"
      ]
     },
     "metadata": {
      "needs_background": "light"
     },
     "output_type": "display_data"
    }
   ],
   "source": [
    "olympicsDF = pd.read_csv('olympics.csv')\n",
    "\n",
    "plt.scatter(olympicsDF.WinterTotal, olympicsDF.SummerTotal)\n",
    "plt.show()"
   ]
  },
  {
   "cell_type": "markdown",
   "metadata": {},
   "source": [
    "### 2. Labelling "
   ]
  },
  {
   "cell_type": "markdown",
   "metadata": {},
   "source": [
    "We can add labels to our graph and our graph's axes using the below methods."
   ]
  },
  {
   "cell_type": "markdown",
   "metadata": {},
   "source": [
    "##### X axis label\n",
    "plt.xlabel(\"x axis label\")\n",
    "\n",
    "##### Y axis label\n",
    "plt.ylabel(\"y axis label\")\n",
    "\n",
    "##### Graph title\n",
    "plt.title(\"graph title\")\n",
    "\n",
    "##### Show the graph\n",
    "plt.show()"
   ]
  },
  {
   "cell_type": "markdown",
   "metadata": {},
   "source": [
    "#### Task"
   ]
  },
  {
   "cell_type": "markdown",
   "metadata": {},
   "source": [
    "Try adding labels to the olympics graph. You will need to call plt.scatter() again and then add your labels."
   ]
  },
  {
   "cell_type": "code",
   "execution_count": 7,
   "metadata": {},
   "outputs": [
    {
     "data": {
      "image/png": "[encoded data removed]",
      "text/plain": [
       "<Figure size 432x288 with 1 Axes>"
      ]
     },
     "metadata": {
      "needs_background": "light"
     },
     "output_type": "display_data"
    }
   ],
   "source": [
    "plt.scatter(olympicsDF.WinterTotal, olympicsDF.SummerTotal)\n",
    "plt.xlabel(\"Winter Total\")\n",
    "plt.ylabel(\"Summer Total\")\n",
    "plt.title(\"Comparison of Medals Won in the Winter and Summer\")\n",
    "plt.show()"
   ]
  },
  {
   "cell_type": "markdown",
   "metadata": {},
   "source": [
    "### 3. Colours"
   ]
  },
  {
   "cell_type": "markdown",
   "metadata": {},
   "source": [
    "If we want to plot two sets of data on the same graph, it can be useful to use different colours in order to differentiate the datasets.\n",
    "\n",
    "In matplotlib all we need to do is add a 'color' argument when plotting the graph to change the colour of the data.\n",
    "\n",
    "EG: plt.scatter(x, y, color='y')\n",
    "\n",
    "Take a look at the Matplotlib documentation at the following web page.\n",
    "\n",
    "https://matplotlib.org/3.1.0/gallery/color/named_colors.html"
   ]
  },
  {
   "cell_type": "markdown",
   "metadata": {},
   "source": [
    "#### Task"
   ]
  },
  {
   "cell_type": "markdown",
   "metadata": {},
   "source": [
    "Plot the data from the 'data.csv' dataset and the 'olympics.csv' dataset on the same graph, using different colours for each.\n",
    "\n",
    "##### Hint: You can simply write plt.scatter() on consecutive lines to plot two datasets on the same graph."
   ]
  },
  {
   "cell_type": "code",
   "execution_count": 8,
   "metadata": {},
   "outputs": [
    {
     "data": {
      "image/png": "[encoded data removed]",
      "text/plain": [
       "<Figure size 432x288 with 1 Axes>"
      ]
     },
     "metadata": {
      "needs_background": "light"
     },
     "output_type": "display_data"
    }
   ],
   "source": [
    "plt.scatter(dataDF.X, dataDF.Y, color='r')\n",
    "plt.scatter(olympicsDF.WinterTotal, olympicsDF.SummerTotal, color='b')\n",
    "plt.show()"
   ]
  },
  {
   "cell_type": "markdown",
   "metadata": {},
   "source": [
    "## Section C - Regression"
   ]
  },
  {
   "cell_type": "markdown",
   "metadata": {},
   "source": [
    "Regression is modelling the relationship between X and Y values.\n",
    "\n",
    "Today we will be looking at linear regression, being able to plot the relationship between two variables using linear algebra."
   ]
  },
  {
   "cell_type": "code",
   "execution_count": 9,
   "metadata": {},
   "outputs": [],
   "source": [
    "from sklearn.linear_model import LinearRegression"
   ]
  },
  {
   "cell_type": "markdown",
   "metadata": {},
   "source": [
    "We can create an empty model for use within this project by simply calling the LinearRegression() method from sklearn."
   ]
  },
  {
   "cell_type": "code",
   "execution_count": 10,
   "metadata": {},
   "outputs": [],
   "source": [
    "linearModel = LinearRegression()"
   ]
  },
  {
   "cell_type": "markdown",
   "metadata": {},
   "source": [
    "### 1. Data Formatting "
   ]
  },
  {
   "cell_type": "markdown",
   "metadata": {},
   "source": [
    "We have looked at how to retrieve columns easily, but in order to use these columns in our model we need to format them."
   ]
  },
  {
   "cell_type": "markdown",
   "metadata": {},
   "source": [
    "When we retrieve a column using dataDF.X, we will receive a pandas Series. We need to be able to change the shape of the column so that it can be processed properly."
   ]
  },
  {
   "cell_type": "markdown",
   "metadata": {},
   "source": [
    "### ~"
   ]
  },
  {
   "cell_type": "markdown",
   "metadata": {},
   "source": [
    "### Why we need to reshape"
   ]
  },
  {
   "cell_type": "markdown",
   "metadata": {},
   "source": [
    "##### The following is an explanation of why we need to reshape our X inputs for our models. \n",
    "\n",
    "##### Feel free to skip this section if it is of no interest."
   ]
  },
  {
   "cell_type": "markdown",
   "metadata": {},
   "source": [
    "When looking at matrix multiplication, we know that in order to multiply matrixes together we do rows multiplied by columns."
   ]
  },
  {
   "cell_type": "code",
   "execution_count": 11,
   "metadata": {},
   "outputs": [],
   "source": [
    "# [1]   [3 2 1]   [3 2 1]\n",
    "# [2] *         = [6 4 2]\n",
    "# [3]             [9 6 3]"
   ]
  },
  {
   "cell_type": "markdown",
   "metadata": {},
   "source": [
    "Therefore in order for matrix multiplication to work, we need the first matrix to be of opposite shape to the second matrix."
   ]
  },
  {
   "cell_type": "markdown",
   "metadata": {},
   "source": [
    "Looking at the first matrix on the left, we can see that it is not formatted like a normal list."
   ]
  },
  {
   "cell_type": "markdown",
   "metadata": {},
   "source": [
    "Instead of being [1, 2, 3], it is formatted [[1], [2], [3]]."
   ]
  },
  {
   "cell_type": "markdown",
   "metadata": {},
   "source": [
    "So when we parse X values into our model, we need to ensure that they are in this format so that matrix multiplication can be performed correctly."
   ]
  },
  {
   "cell_type": "markdown",
   "metadata": {},
   "source": [
    "### ~"
   ]
  },
  {
   "cell_type": "markdown",
   "metadata": {},
   "source": [
    "How do we do this?"
   ]
  },
  {
   "cell_type": "markdown",
   "metadata": {},
   "source": [
    "Below we are converting our pandas Series to an array by using .values, and then changing the shape of the array using .reshape(-1,1).\n",
    "\n",
    "This turns a Series into a list containing lists."
   ]
  },
  {
   "cell_type": "code",
   "execution_count": 12,
   "metadata": {},
   "outputs": [],
   "source": [
    "x_train = dataDF.X.values\n",
    "\n",
    "x_train = x_train.reshape(-1,1)"
   ]
  },
  {
   "cell_type": "code",
   "execution_count": 13,
   "metadata": {},
   "outputs": [
    {
     "name": "stdout",
     "output_type": "stream",
     "text": [
      "Before formatting: \n",
      "\n",
      " 0    108\n",
      "1     19\n",
      "2     13\n",
      "3    124\n",
      "4     40\n",
      "Name: X, dtype: int64\n",
      "\n",
      "\n",
      "After formatting: \n",
      "\n",
      " [[108]\n",
      " [ 19]\n",
      " [ 13]\n",
      " [124]\n",
      " [ 40]]\n"
     ]
    }
   ],
   "source": [
    "print(\"Before formatting: \\n\\n\", dataDF.X.head())\n",
    "\n",
    "print(\"\\n\\nAfter formatting: \\n\\n\", x_train[:5])"
   ]
  },
  {
   "cell_type": "markdown",
   "metadata": {},
   "source": [
    "#### Task"
   ]
  },
  {
   "cell_type": "markdown",
   "metadata": {},
   "source": [
    "1. Using the olympics.csv dataset, format the WinterTotal column as described above so that it is ready to be used in our regression algorithm.\n",
    "\n",
    "2. Create a new instance of a LinearRegression() model. Call it something memorable like olympicsModel."
   ]
  },
  {
   "cell_type": "code",
   "execution_count": 14,
   "metadata": {},
   "outputs": [],
   "source": [
    "#1\n",
    "olympics_x_train = olympicsDF.WinterTotal.values.reshape(-1,1)\n",
    "\n",
    "#2\n",
    "olympicsModel = LinearRegression()"
   ]
  },
  {
   "cell_type": "markdown",
   "metadata": {},
   "source": [
    "### 2. Training our model"
   ]
  },
  {
   "cell_type": "markdown",
   "metadata": {},
   "source": [
    "There are two main functions we will use our model for: training and predicting.\n",
    "\n",
    "##### .fit()\n",
    "\n",
    "This method will train the model according to our data.\n",
    "\n",
    "##### .predict()\n",
    "\n",
    "This method will return a prediction of a y value when given an x value."
   ]
  },
  {
   "cell_type": "markdown",
   "metadata": {},
   "source": [
    "Here we are parsing in both the X values and the corresponding Y values. This tells the model which characteristics of X will affect Y."
   ]
  },
  {
   "cell_type": "code",
   "execution_count": 15,
   "metadata": {},
   "outputs": [
    {
     "data": {
      "text/plain": [
       "LinearRegression(copy_X=True, fit_intercept=True, n_jobs=None, normalize=False)"
      ]
     },
     "execution_count": 15,
     "metadata": {},
     "output_type": "execute_result"
    }
   ],
   "source": [
    "linearModel.fit(x_train, dataDF.Y)"
   ]
  },
  {
   "cell_type": "markdown",
   "metadata": {},
   "source": [
    "Now that we have trained our model, we can use it as much as we like to predict values. We can also save it and use it on other projects."
   ]
  },
  {
   "cell_type": "markdown",
   "metadata": {},
   "source": [
    "#### Task"
   ]
  },
  {
   "cell_type": "markdown",
   "metadata": {},
   "source": [
    "Parse in your formatted X values and Y values for the olympics DataFrame into your linear regression model using the .fit() method."
   ]
  },
  {
   "cell_type": "code",
   "execution_count": 16,
   "metadata": {},
   "outputs": [
    {
     "data": {
      "text/plain": [
       "LinearRegression(copy_X=True, fit_intercept=True, n_jobs=None, normalize=False)"
      ]
     },
     "execution_count": 16,
     "metadata": {},
     "output_type": "execute_result"
    }
   ],
   "source": [
    "olympicsModel.fit(olympics_x_train, olympicsDF.SummerTotal)"
   ]
  },
  {
   "cell_type": "markdown",
   "metadata": {},
   "source": [
    "### 3. Predicting values using our model"
   ]
  },
  {
   "cell_type": "markdown",
   "metadata": {},
   "source": [
    "Since we are creating a linear line through our data points, we can predict values for just two points - the maximum and the minimum of our dataset."
   ]
  },
  {
   "cell_type": "markdown",
   "metadata": {},
   "source": [
    "Below we are creating a list of the two points we would like predicted values for."
   ]
  },
  {
   "cell_type": "code",
   "execution_count": 17,
   "metadata": {},
   "outputs": [],
   "source": [
    "x_pred = [min(dataDF.X.values), max(dataDF.X.values)]"
   ]
  },
  {
   "cell_type": "markdown",
   "metadata": {},
   "source": [
    "Numpy is used to convert our newly created list into a numpy array so that we can perform reshape operations on it.\n",
    "\n",
    "This is exactly the same procedure as describes in section C.1."
   ]
  },
  {
   "cell_type": "code",
   "execution_count": 18,
   "metadata": {},
   "outputs": [],
   "source": [
    "import numpy as np\n",
    "\n",
    "x_pred = np.array(x_pred).reshape(-1,1)"
   ]
  },
  {
   "cell_type": "markdown",
   "metadata": {},
   "source": [
    "Now that we have a set of X values, we can parse this data into our model using .predict() and get a list of predicted Y values. "
   ]
  },
  {
   "cell_type": "code",
   "execution_count": 19,
   "metadata": {},
   "outputs": [],
   "source": [
    "y_pred = linearModel.predict(x_pred)"
   ]
  },
  {
   "cell_type": "code",
   "execution_count": 20,
   "metadata": {
    "scrolled": true
   },
   "outputs": [
    {
     "name": "stdout",
     "output_type": "stream",
     "text": [
      "X values: \n",
      " [[  0]\n",
      " [124]]\n",
      "\n",
      "Predicted Y values: \n",
      " [ 19.49288308 442.87583345]\n"
     ]
    }
   ],
   "source": [
    "print(\"X values: \\n\", x_pred)\n",
    "\n",
    "print(\"\\nPredicted Y values: \\n\", y_pred)"
   ]
  },
  {
   "cell_type": "markdown",
   "metadata": {},
   "source": [
    "#### Task"
   ]
  },
  {
   "cell_type": "markdown",
   "metadata": {},
   "source": [
    "Using the method described above, predict Y values for your olympics DataFrame."
   ]
  },
  {
   "cell_type": "markdown",
   "metadata": {},
   "source": []
  },
  {
   "cell_type": "markdown",
   "metadata": {},
   "source": [
    "### 4. Plotting "
   ]
  },
  {
   "cell_type": "markdown",
   "metadata": {},
   "source": [
    "We can now plot our data, just like in section B."
   ]
  },
  {
   "cell_type": "code",
   "execution_count": 21,
   "metadata": {},
   "outputs": [
    {
     "data": {
      "image/png": "[encoded data removed]",
      "text/plain": [
       "<Figure size 432x288 with 1 Axes>"
      ]
     },
     "metadata": {
      "needs_background": "light"
     },
     "output_type": "display_data"
    }
   ],
   "source": [
    "plt.scatter(dataDF.X, dataDF.Y)\n",
    "\n",
    "# plt.plot() will plot a line rather than a scatter graph.\n",
    "plt.plot(x_pred, y_pred, color='r')\n",
    "\n",
    "plt.xlabel(\"X\")\n",
    "plt.ylabel(\"Y\")\n",
    "plt.title(\"X vs Y\")\n",
    "\n",
    "plt.show()"
   ]
  },
  {
   "cell_type": "markdown",
   "metadata": {},
   "source": [
    "#### Task"
   ]
  },
  {
   "cell_type": "markdown",
   "metadata": {},
   "source": [
    "Plot a graph of the olympics dataset and the x_pred and y_pred values generated."
   ]
  },
  {
   "cell_type": "code",
   "execution_count": 22,
   "metadata": {},
   "outputs": [
    {
     "data": {
      "image/png": "[encoded data removed]",
      "text/plain": [
       "<Figure size 432x288 with 1 Axes>"
      ]
     },
     "metadata": {
      "needs_background": "light"
     },
     "output_type": "display_data"
    }
   ],
   "source": [
    "olympics_x_pred = [min(olympicsDF.WinterTotal.values), max(olympicsDF.WinterTotal.values)]\n",
    "\n",
    "olympics_x_pred = np.array(olympics_x_pred).reshape(-1,1)\n",
    "\n",
    "olympics_y_pred = olympicsModel.predict(olympics_x_pred)\n",
    "\n",
    "plt.scatter(olympicsDF.WinterTotal, olympicsDF.SummerTotal)\n",
    "plt.plot(olympics_x_pred, olympics_y_pred, color='r')\n",
    "\n",
    "plt.xlabel(\"Winter Total\")\n",
    "plt.ylabel(\"Summer Total\")\n",
    "plt.title(\"Trend in Winter vs Summer Medal Wins\")\n",
    "\n",
    "plt.show()"
   ]
  },
  {
   "cell_type": "code",
   "execution_count": 59,
   "metadata": {},
   "outputs": [],
   "source": [
    "# Does this line of best fit look right?\n",
    "\n",
    "# We can make a line of best fit which fits the data better by using polynomial regression as demonstrated below."
   ]
  },
  {
   "cell_type": "code",
   "execution_count": 28,
   "metadata": {},
   "outputs": [],
   "source": [
    "from sklearn.pipeline import make_pipeline\n",
    "from sklearn.preprocessing import PolynomialFeatures"
   ]
  },
  {
   "cell_type": "code",
   "execution_count": 60,
   "metadata": {},
   "outputs": [
    {
     "data": {
      "image/png": "[encoded data removed]",
      "text/plain": [
       "<Figure size 432x288 with 1 Axes>"
      ]
     },
     "metadata": {
      "needs_background": "light"
     },
     "output_type": "display_data"
    }
   ],
   "source": [
    "olympics_x_pred = np.linspace(min(olympicsDF.WinterTotal.values), max(olympicsDF.WinterTotal.values), olympicsDF.shape[0]).reshape(-1,1)\n",
    "\n",
    "\n",
    "polyModel = make_pipeline(PolynomialFeatures(2), LinearRegression())\n",
    "\n",
    "polyModel.fit(olympics_x_train, olympicsDF.SummerTotal)\n",
    "\n",
    "olympics_y_pred = polyModel.predict(olympics_x_pred)\n",
    "\n",
    "plt.plot(olympics_x_pred, olympics_y_pred)\n",
    "\n",
    "plt.scatter(olympicsDF.WinterTotal, olympicsDF.SummerTotal)\n",
    "plt.plot(olympics_x_pred, olympics_y_pred, color='r')\n",
    "plt.show()"
   ]
  },
  {
   "cell_type": "code",
   "execution_count": null,
   "metadata": {},
   "outputs": [],
   "source": []
  }
 ],
 "metadata": {
  "kernelspec": {
   "display_name": "Python 3",
   "language": "python",
   "name": "python3"
  },
  "language_info": {
   "codemirror_mode": {
    "name": "ipython",
    "version": 3
   },
   "file_extension": ".py",
   "mimetype": "text/x-python",
   "name": "python",
   "nbconvert_exporter": "python",
   "pygments_lexer": "ipython3",
   "version": "3.7.3"
  }
 },
 "nbformat": 4,
 "nbformat_minor": 4
}
