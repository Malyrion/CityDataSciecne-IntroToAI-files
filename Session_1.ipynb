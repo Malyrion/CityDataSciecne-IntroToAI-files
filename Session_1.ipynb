{
 "cells": [
  {
   "cell_type": "markdown",
   "metadata": {},
   "source": [
    "# Introduction to Python for Data Science - Session 1"
   ]
  },
  {
   "cell_type": "markdown",
   "metadata": {},
   "source": [
    "# City Data Science Society"
   ]
  },
  {
   "cell_type": "markdown",
   "metadata": {},
   "source": [
    "## Section A - Using Jupyter Notebooks"
   ]
  },
  {
   "cell_type": "markdown",
   "metadata": {},
   "source": [
    "### 1. Running code"
   ]
  },
  {
   "cell_type": "markdown",
   "metadata": {},
   "source": [
    "Cells in Jupyter Notebooks are blocks of code that can be run independently to each other.\n",
    "\n",
    "When a cell is run, it is loaded into the memory of the system and then executed.\n",
    "\n",
    "Click inside the cell below to highlight it and then click the 'Run' button in the toolbar."
   ]
  },
  {
   "cell_type": "code",
   "execution_count": null,
   "metadata": {},
   "outputs": [],
   "source": [
    "print(\"Hello world\")"
   ]
  },
  {
   "cell_type": "markdown",
   "metadata": {},
   "source": [
    "Alternatively, hold shift and press enter while the cell is highlighted.\n",
    "\n",
    "To add another cell below the current cell, press the '+' button in the toolbar."
   ]
  },
  {
   "cell_type": "markdown",
   "metadata": {},
   "source": [
    "### 2. Markdown cells"
   ]
  },
  {
   "cell_type": "markdown",
   "metadata": {},
   "source": [
    "A markdown cell is a cell that is just used to display text. This is useful for structuring your notebook with headings and explanatory text.\n",
    "\n",
    "Try double clicking the headings below to see how they have been formed."
   ]
  },
  {
   "cell_type": "markdown",
   "metadata": {},
   "source": [
    "# This will give you a heading"
   ]
  },
  {
   "cell_type": "markdown",
   "metadata": {},
   "source": [
    "### This will give you a much smaller heading"
   ]
  },
  {
   "cell_type": "markdown",
   "metadata": {},
   "source": [
    "You can change an ordinary cell to be a markdown cell by using the drop down box to the right of the toolbar.\n",
    "\n",
    "Try and create a heading in the cell below.\n",
    "\n",
    "    1. Change the cell type to 'Markdown'.\n",
    "    \n",
    "    2. Use '#' symbols before your text to change the size of the heading.\n",
    "    \n",
    "    3. When you're happy, run the cell."
   ]
  },
  {
   "cell_type": "code",
   "execution_count": null,
   "metadata": {},
   "outputs": [],
   "source": []
  },
  {
   "cell_type": "markdown",
   "metadata": {},
   "source": [
    "To delete a cell, highlight the cell and press 'd' on your keyboard twice. Try it on this cell."
   ]
  },
  {
   "cell_type": "markdown",
   "metadata": {},
   "source": [
    "## Section B - Coding in Python"
   ]
  },
  {
   "cell_type": "markdown",
   "metadata": {},
   "source": [
    "Python is a high level programming language, meaning it does not require the user to have much technical knowledge about how the system works to use it.\n",
    "\n",
    "Variables in Python do not need to be explicitly told their type unlike in other languages."
   ]
  },
  {
   "cell_type": "code",
   "execution_count": null,
   "metadata": {},
   "outputs": [],
   "source": [
    "x = 3\n",
    "\n",
    "print(type(x))"
   ]
  },
  {
   "cell_type": "markdown",
   "metadata": {},
   "source": [
    "When this line of code is run, Python can infer that the variable is an integer."
   ]
  },
  {
   "cell_type": "markdown",
   "metadata": {},
   "source": [
    "### 1. printName()"
   ]
  },
  {
   "cell_type": "markdown",
   "metadata": {},
   "source": [
    "Use the print() function in the cell below to print your name and your age. Use quotation marks to surround strings."
   ]
  },
  {
   "cell_type": "code",
   "execution_count": null,
   "metadata": {},
   "outputs": [],
   "source": []
  },
  {
   "cell_type": "markdown",
   "metadata": {},
   "source": [
    "### 2. For loops"
   ]
  },
  {
   "cell_type": "code",
   "execution_count": null,
   "metadata": {},
   "outputs": [],
   "source": [
    "for i in range(4):\n",
    "    print(i)"
   ]
  },
  {
   "cell_type": "markdown",
   "metadata": {},
   "source": [
    "For loops are a useful way of iterating through a list. When iterating through a number, it must first be converted to a list. This can be done using the range() method.\n",
    "\n",
    "For example, range(6) would create a list containing [0,1,2,3,4,5]\n",
    "\n",
    "Notice that computers count from 0."
   ]
  },
  {
   "cell_type": "code",
   "execution_count": null,
   "metadata": {},
   "outputs": [],
   "source": [
    "print(6)\n",
    "\n",
    "print(list(range(6)))"
   ]
  },
  {
   "cell_type": "markdown",
   "metadata": {},
   "source": [
    "Create a For loop below that cycles through numbers 0 up to 100."
   ]
  },
  {
   "cell_type": "code",
   "execution_count": null,
   "metadata": {},
   "outputs": [],
   "source": []
  },
  {
   "cell_type": "markdown",
   "metadata": {},
   "source": [
    "### 3. Example: calculateAge"
   ]
  },
  {
   "cell_type": "markdown",
   "metadata": {},
   "source": [
    "#### Methods"
   ]
  },
  {
   "cell_type": "markdown",
   "metadata": {},
   "source": [
    "Methods are used in programming to prevent duplication of code. This makes the code more efficient in terms of the amount of space it takes up, and makes it easier to read."
   ]
  },
  {
   "cell_type": "markdown",
   "metadata": {},
   "source": [
    "The method calculateAge has a parameter: birthYear. This means that whenever the method is run, a variable must be parsed.\n",
    "\n",
    "Parameters are always specified within the brackets following the method's name."
   ]
  },
  {
   "cell_type": "code",
   "execution_count": null,
   "metadata": {},
   "outputs": [],
   "source": [
    "def calculateAge(birthYear):\n",
    "    \n",
    "    age = 2019 - birthYear\n",
    "\n",
    "    print(\"Your age is \" + str(age))"
   ]
  },
  {
   "cell_type": "markdown",
   "metadata": {},
   "source": [
    "Due to the fact that Jupyter notebooks allow code to be executed in any order, we can run the block of code above before we call the method itself.\n",
    "\n",
    "Highlight the above method and run it using the 'Run' button, or by holding down shift and pressing enter.\n",
    "\n",
    "##### Notice that nothing happened?\n",
    "\n",
    "When the cell is run the code is loaded into the memory of the computer, however there is nothing in that cell to execute the method so nothing is printed."
   ]
  },
  {
   "cell_type": "markdown",
   "metadata": {},
   "source": [
    "Now run the cell below and follow the instructions."
   ]
  },
  {
   "cell_type": "code",
   "execution_count": null,
   "metadata": {},
   "outputs": [],
   "source": [
    "birthYear = int(input(\"Please enter the year that you were born: \"))\n",
    "\n",
    "calculateAge(birthYear)"
   ]
  },
  {
   "cell_type": "markdown",
   "metadata": {},
   "source": [
    "We can run the above cell as many times as we like since the method it is referencing is still in the memory.\n",
    "\n",
    "##### Watch the indentation of your code in Python\n",
    "\n",
    "The indentation of your code will determine if it is run within a method, or outside it. Highlight your code and press tab on your keyboard to indent code. Hold shift and press tab to move your code back to the left."
   ]
  },
  {
   "cell_type": "markdown",
   "metadata": {},
   "source": [
    "### 4. FizzBuzz"
   ]
  },
  {
   "cell_type": "markdown",
   "metadata": {},
   "source": [
    "#### IF"
   ]
  },
  {
   "cell_type": "markdown",
   "metadata": {},
   "source": [
    "IF statements are used to compare statements. If a statement is true, one block of code may be run. If it is false, another block of code may be run."
   ]
  },
  {
   "cell_type": "code",
   "execution_count": null,
   "metadata": {},
   "outputs": [],
   "source": [
    "if 3 > 0:\n",
    "    print(\"3 is greater than 0\")\n",
    "else:\n",
    "    print(\"3 is not greater than 0\")"
   ]
  },
  {
   "cell_type": "markdown",
   "metadata": {},
   "source": [
    "#### Modulo"
   ]
  },
  {
   "cell_type": "markdown",
   "metadata": {},
   "source": [
    "The modulo operator is used to find the remainder of a calculation. For example it can be used to find all even numbers like the below:"
   ]
  },
  {
   "cell_type": "code",
   "execution_count": null,
   "metadata": {},
   "outputs": [],
   "source": [
    "for i in range(10):\n",
    "    if i % 2 == 0:\n",
    "        print(i)"
   ]
  },
  {
   "cell_type": "markdown",
   "metadata": {},
   "source": [
    "This works since 2 % 2 has no remainder, so the result of this operation is 0. The result of doing 3 % 2 is 1, since the remainder of 3 / 2 is 1."
   ]
  },
  {
   "cell_type": "markdown",
   "metadata": {},
   "source": [
    "### Task"
   ]
  },
  {
   "cell_type": "markdown",
   "metadata": {},
   "source": [
    "#### Write a method that takes in a number and iterates through its range, printing either \"Fizz\" or \"Buzz\" to the console depending on if the value is divisible by 3.\n",
    "\n",
    "##### Hint: Using the modulo operator will help with this task."
   ]
  },
  {
   "cell_type": "markdown",
   "metadata": {},
   "source": [
    "EG\n",
    "\n",
    "Fizz\n",
    "\n",
    "Buzz\n",
    "\n",
    "Buzz\n",
    "\n",
    "Fizz"
   ]
  },
  {
   "cell_type": "code",
   "execution_count": null,
   "metadata": {},
   "outputs": [],
   "source": []
  },
  {
   "cell_type": "markdown",
   "metadata": {},
   "source": [
    "### 5. FizzBuzz Random"
   ]
  },
  {
   "cell_type": "markdown",
   "metadata": {},
   "source": [
    "#### Random"
   ]
  },
  {
   "cell_type": "code",
   "execution_count": null,
   "metadata": {},
   "outputs": [],
   "source": [
    "import random\n",
    "\n",
    "print(random.randint(0,1))"
   ]
  },
  {
   "cell_type": "markdown",
   "metadata": {},
   "source": [
    "Python has a wide range of libraries that can be imported to help accomplish different tasks. One such library is 'random', which allows a random number to be generated.\n",
    "\n",
    "Full documentation on Python libraries can be found by going to their respective webpages.\n",
    "\n",
    "Random's doc webpage can be found at the following link: https://docs.python.org/3/library/random.html"
   ]
  },
  {
   "cell_type": "markdown",
   "metadata": {},
   "source": [
    "### Task"
   ]
  },
  {
   "cell_type": "markdown",
   "metadata": {},
   "source": [
    "#### Write a method that generates a random number between 0 and 1 five times and prints 'Fizz' to the console if the number is 1, and 'Buzz' to the console if the number is 0."
   ]
  },
  {
   "cell_type": "markdown",
   "metadata": {},
   "source": [
    "EG\n",
    "\n",
    "Buzz\n",
    "\n",
    "Fizz\n",
    "\n",
    "Fizz\n",
    "\n",
    "Fizz\n",
    "\n",
    "Buzz"
   ]
  },
  {
   "cell_type": "code",
   "execution_count": null,
   "metadata": {},
   "outputs": [],
   "source": []
  },
  {
   "cell_type": "markdown",
   "metadata": {},
   "source": [
    "### 6. Timer"
   ]
  },
  {
   "cell_type": "markdown",
   "metadata": {},
   "source": [
    "#### While"
   ]
  },
  {
   "cell_type": "markdown",
   "metadata": {},
   "source": [
    "A While loop is another type of loop in programming which will run so long as a certain condition is met."
   ]
  },
  {
   "cell_type": "code",
   "execution_count": null,
   "metadata": {},
   "outputs": [],
   "source": [
    "x = 0\n",
    "\n",
    "while x < 4:\n",
    "    print(x)\n",
    "    x += 1"
   ]
  },
  {
   "cell_type": "markdown",
   "metadata": {},
   "source": [
    "You can also make a While loop run forever until stopped by using 'while True:'"
   ]
  },
  {
   "cell_type": "markdown",
   "metadata": {},
   "source": [
    "#### Time"
   ]
  },
  {
   "cell_type": "markdown",
   "metadata": {},
   "source": [
    "Python has a library called 'time' that can be used for many different operations.\n",
    "\n",
    "Search online for this library and find how to use the method sleep() to complete the task below.\n",
    "\n",
    "Note: You will need to import this library to use it."
   ]
  },
  {
   "cell_type": "markdown",
   "metadata": {},
   "source": [
    "### Task"
   ]
  },
  {
   "cell_type": "markdown",
   "metadata": {},
   "source": [
    "#### Write a method that prints an incrementing number to the console every second until stopped. You can stop the execution of code by pressing the stop button next to the 'Run' button in the toolbar."
   ]
  },
  {
   "cell_type": "markdown",
   "metadata": {},
   "source": [
    "EG"
   ]
  },
  {
   "cell_type": "markdown",
   "metadata": {},
   "source": [
    "1\n",
    "\n",
    "2\n",
    "\n",
    "3"
   ]
  },
  {
   "cell_type": "code",
   "execution_count": null,
   "metadata": {},
   "outputs": [],
   "source": []
  },
  {
   "cell_type": "markdown",
   "metadata": {},
   "source": [
    "## Section C - Data Structures"
   ]
  },
  {
   "cell_type": "markdown",
   "metadata": {},
   "source": [
    "### 1. Lists"
   ]
  },
  {
   "cell_type": "markdown",
   "metadata": {},
   "source": [
    "#### A list contains variables that can be of different data types."
   ]
  },
  {
   "cell_type": "code",
   "execution_count": null,
   "metadata": {},
   "outputs": [],
   "source": [
    "myList = [2, \"ABCDE\", True]\n",
    "\n",
    "print(myList)"
   ]
  },
  {
   "cell_type": "code",
   "execution_count": null,
   "metadata": {},
   "outputs": [],
   "source": [
    "fibonacci = [0,1,1,2,3,5,8,13,21,34,55]\n",
    "\n",
    "for i in range(len(fibonacci)):\n",
    "    \n",
    "    for j in range(fibonacci[i]):\n",
    "        print(\"_\", end = '')\n",
    "    \n",
    "    print(\"\")"
   ]
  },
  {
   "cell_type": "markdown",
   "metadata": {},
   "source": [
    "Values can be added to a list using the append() function as seen below."
   ]
  },
  {
   "cell_type": "code",
   "execution_count": null,
   "metadata": {},
   "outputs": [],
   "source": [
    "myList = [1,2,3]\n",
    "\n",
    "myList.append(4)\n",
    "\n",
    "print(myList)"
   ]
  },
  {
   "cell_type": "markdown",
   "metadata": {},
   "source": [
    "### Task"
   ]
  },
  {
   "cell_type": "markdown",
   "metadata": {},
   "source": [
    "Create a method that asks the user for an input 5 times and adds that input to a list. Once completed, display the list."
   ]
  },
  {
   "cell_type": "code",
   "execution_count": null,
   "metadata": {},
   "outputs": [],
   "source": []
  },
  {
   "cell_type": "markdown",
   "metadata": {},
   "source": [
    "### 2. Dictionaries"
   ]
  },
  {
   "cell_type": "markdown",
   "metadata": {},
   "source": [
    "#### Dictionaries consist of key/value pair, you can use the key to access the value."
   ]
  },
  {
   "cell_type": "code",
   "execution_count": null,
   "metadata": {},
   "outputs": [],
   "source": [
    "myDict = {\"Ben\" : \"Frost\", \"Nick\" : \"Zavitsanos\", \"Jacob\": \"Kristensen\"}"
   ]
  },
  {
   "cell_type": "code",
   "execution_count": null,
   "metadata": {},
   "outputs": [],
   "source": [
    "firstName = input(\"What is your first name? \")\n",
    "\n",
    "firstName = firstName.title()\n",
    "\n",
    "if firstName in myDict:\n",
    "    \n",
    "    print(\"Hello \" + firstName + \" \" + myDict.get(firstName))\n",
    "    \n",
    "else:\n",
    "    \n",
    "    print(\"We don't have your record.\")\n",
    "    lastName = input(\"Please enter your last name: \").title()\n",
    "    \n",
    "    myDict[firstName] = lastName\n",
    "    \n",
    "    print(\"Hello \" + firstName + \" \" + myDict.get(firstName))"
   ]
  },
  {
   "cell_type": "markdown",
   "metadata": {},
   "source": [
    "#### The above is the intuitive way of writing the code, however in Python we prefer to ask forgiveness than permission so the below is the recommended method.\n",
    "\n",
    "\"The classical Python mentality is that it's easier to ask forgiveness than permission. In other words, don't check whether x is an integer; assume that it is and catch the exception that results if it isn't\"\n",
    "\n",
    "#### This method uses the Try: Except: technique, which will try and access the dictionary entry before knowing if the entry exists. If the entry into the dictionary does not exist, a runtime exception is thrown which triggers the except: block. This method is more efficient when it comes to large datasets since it uses fewer comparisons."
   ]
  },
  {
   "cell_type": "code",
   "execution_count": null,
   "metadata": {},
   "outputs": [],
   "source": [
    "firstName = input(\"What is your first name? \")\n",
    "\n",
    "firstName = firstName.title()\n",
    "\n",
    "try:\n",
    "    \n",
    "    print(\"Hello \" + firstName + \" \" + myDict.get(firstName))\n",
    "    \n",
    "except:\n",
    "    \n",
    "    print(\"We don't have your record.\")\n",
    "    lastName = input(\"Please enter your last name: \").title()\n",
    "    \n",
    "    myDict[firstName] = lastName\n",
    "    \n",
    "    print(\"Hello \" + firstName + \" \" + myDict.get(firstName))"
   ]
  },
  {
   "cell_type": "markdown",
   "metadata": {},
   "source": [
    "### Extension Task"
   ]
  },
  {
   "cell_type": "markdown",
   "metadata": {},
   "source": [
    "Write a method called purchaseFruit() that contains a list of fruit and their corresponding prices. When the method is run, the user is asked to input the names of 3 fruit they would like to purchase and the method outputs the total cost of their selection.\n",
    "\n",
    "At the start of execution, the method should output the selection of fruit available to purchase and their corresponding prices."
   ]
  },
  {
   "cell_type": "code",
   "execution_count": null,
   "metadata": {},
   "outputs": [],
   "source": []
  }
 ],
 "metadata": {
  "kernelspec": {
   "display_name": "Python 3",
   "language": "python",
   "name": "python3"
  },
  "language_info": {
   "codemirror_mode": {
    "name": "ipython",
    "version": 3
   },
   "file_extension": ".py",
   "mimetype": "text/x-python",
   "name": "python",
   "nbconvert_exporter": "python",
   "pygments_lexer": "ipython3",
   "version": "3.6.7"
  }
 },
 "nbformat": 4,
 "nbformat_minor": 4
}
